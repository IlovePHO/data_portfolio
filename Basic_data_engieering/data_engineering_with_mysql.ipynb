{
 "cells": [
  {
   "cell_type": "code",
   "execution_count": 2,
   "id": "1b8fb6f2",
   "metadata": {},
   "outputs": [
    {
     "data": {
      "image/png": "[encoded data removed]",
      "text/plain": [
       "<IPython.core.display.Image object>"
      ]
     },
     "execution_count": 2,
     "metadata": {
      "image/png": {
       "width": 500
      }
     },
     "output_type": "execute_result"
    }
   ],
   "source": [
    "# MySQL Data Engineering Tutorial using Jupyter Notebook\n",
    "\n",
    "from IPython.display import Image\n",
    "Image(filename='./img/mysql.png', width=500)"
   ]
  },
  {
   "cell_type": "markdown",
   "id": "c132600d",
   "metadata": {},
   "source": [
    "# 目次\n",
    "データストレージの紹介\n",
    "\n",
    "MySQLへの接続\n",
    "\n",
    "データベースとのやり取り\n",
    "\n",
    "テーブルの作成\n",
    "\n",
    "データの挿入\n",
    "\n",
    "LOAD DATAを使った効率的なデータ読み込み\n",
    "\n",
    "まとめ\n",
    "\n",
    "# データストレージの紹介\n",
    "データストレージは、あらゆるデータシステムにおいて重要な部分です。データエンジニアとして、データがどのように保存され、取得され、変換されるかを理解することは基本的なスキルです。\n",
    "\n",
    "MySQLは、生産システムで広く使われている人気のあるオープンソースのリレーショナルデータベースです。このチュートリアルでは、以下の内容を扱います：\n",
    "\n",
    "MySQLへの接続\n",
    "\n",
    "テーブルの作成\n",
    "\n",
    "データの挿入と読み込み\n",
    "\n",
    "基本的なクエリの実行\n",
    "\n",
    "mysql-connector-pythonライブラリを使用します。"
   ]
  },
  {
   "cell_type": "markdown",
   "id": "f63f83e5",
   "metadata": {},
   "source": [
    "%pip install mysql-connector-python"
   ]
  },
  {
   "cell_type": "markdown",
   "id": "0a175d3b",
   "metadata": {},
   "source": [
    "## Connecting to MySQL\n",
    "\n",
    "We use `mysql.connector.connect()` to establish a connection with a running MySQL server.\n",
    "\n",
    "```python\n",
    "import mysql.connector\n",
    "\n",
    "conn = mysql.connector.connect(\n",
    "    host=\"localhost\",       # or remote host\n",
    "    user=\"your_username\",\n",
    "    password=\"your_password\",\n",
    "    database=\"your_database\"\n",
    ")\n",
    "cursor = conn.cursor()\n",
    "print(\"Connected successfully\")\n",
    "```"
   ]
  },
  {
   "cell_type": "markdown",
   "id": "03496296",
   "metadata": {},
   "source": [
    "## Interacting with the Database\n",
    "\n",
    "```python\n",
    "cursor.execute(\"SELECT DATABASE();\")\n",
    "result = cursor.fetchone()\n",
    "print(\"You're connected to database:\", result)\n",
    "```"
   ]
  },
  {
   "cell_type": "markdown",
   "id": "73e98701",
   "metadata": {},
   "source": [
    "## Creating Tables\n",
    "\n",
    "```python\n",
    "create_table_query = \"\"\"\n",
    "CREATE TABLE IF NOT EXISTS users (\n",
    "    id INT PRIMARY KEY,\n",
    "    email VARCHAR(255),\n",
    "    name VARCHAR(100),\n",
    "    address TEXT\n",
    ");\n",
    "\"\"\"\n",
    "cursor.execute(create_table_query)\n",
    "print(\"Table created.\")\n",
    "```"
   ]
  },
  {
   "cell_type": "markdown",
   "id": "bde83e59",
   "metadata": {},
   "source": [
    "## Inserting Data (from CSV)\n",
    "\n",
    "We can use Python's `csv` module to insert data row by row.\n",
    "\n",
    "```python\n",
    "import csv\n",
    "\n",
    "with open('user_accounts_new.csv', 'r') as file:\n",
    "    reader = csv.reader(file)\n",
    "    next(reader)  # Skip header\n",
    "    for row in reader:\n",
    "        cursor.execute(\"INSERT INTO users (id, email, name, address) VALUES (%s, %s, %s, %s)\", row)\n",
    "\n",
    "conn.commit()\n",
    "print(\"Data inserted row by row.\")\n",
    "```"
   ]
  },
  {
   "cell_type": "markdown",
   "id": "027e6605",
   "metadata": {},
   "source": [
    "## Efficient Data Loading (using LOAD DATA)\n",
    "\n",
    "The most efficient way to load data into MySQL is using `LOAD DATA INFILE`. This requires MySQL server to have file access.\n",
    "\n",
    "```python\n",
    "# Ensure file path is accessible to MySQL Server\n",
    "load_data_query = \"\"\"\n",
    "LOAD DATA INFILE '/path/to/user_accounts_new.csv'\n",
    "INTO TABLE users\n",
    "FIELDS TERMINATED BY ','\n",
    "ENCLOSED BY '\"'\n",
    "LINES TERMINATED BY '\\n'\n",
    "IGNORE 1 ROWS;\n",
    "\"\"\"\n",
    "cursor.execute(load_data_query)\n",
    "conn.commit()\n",
    "print(\"Data loaded using LOAD DATA INFILE.\")\n",
    "```"
   ]
  },
  {
   "cell_type": "markdown",
   "id": "65227221",
   "metadata": {},
   "source": [
    "## Querying Data\n",
    "\n",
    "```python\n",
    "cursor.execute(\"SELECT * FROM users LIMIT 3;\")\n",
    "rows = cursor.fetchall()\n",
    "for idx, row in enumerate(rows):\n",
    "    print(f\"Row {idx+1}: {row}\")\n",
    "```"
   ]
  },
  {
   "cell_type": "markdown",
   "id": "c82c3b4e",
   "metadata": {},
   "source": [
    "# まとめ\n",
    "mysql-connector-pythonを使ってMySQLデータベースに接続しました\n",
    "\n",
    "関連するカラムを持つusersテーブルを作成しました\n",
    "\n",
    "CSVファイルからデータを挿入しました\n",
    "\n",
    "効率的な大量読み込みのためにLOAD DATA INFILEを使用しました\n",
    "\n",
    "挿入したデータに対してクエリを実行しました\n",
    "\n",
    "MySQLは、構造化されたデータセットや大規模なETLパイプラインにおいて、データエンジニアリングに非常に強力なツールです。"
   ]
  }
 ],
 "metadata": {
  "kernelspec": {
   "display_name": "Python 3",
   "language": "python",
   "name": "python3"
  },
  "language_info": {
   "codemirror_mode": {
    "name": "ipython",
    "version": 3
   },
   "file_extension": ".py",
   "mimetype": "text/x-python",
   "name": "python",
   "nbconvert_exporter": "python",
   "pygments_lexer": "ipython3",
   "version": "3.12.7"
  }
 },
 "nbformat": 4,
 "nbformat_minor": 5
}
